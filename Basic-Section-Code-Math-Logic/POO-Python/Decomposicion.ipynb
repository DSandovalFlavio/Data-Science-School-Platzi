{
 "cells": [
  {
   "cell_type": "markdown",
   "metadata": {},
   "source": [
    "# Decomposicion\n",
    "\n",
    "- Partir un problema en partes mas pequeñas\n",
    "- Las clases permiten crear mayores abstracciones en forma de componentes\n",
    "- Cada clase se encarga de una parte del problema y el programa se vuelve mas facil de mantener"
   ]
  },
  {
   "cell_type": "code",
   "execution_count": null,
   "metadata": {},
   "outputs": [],
   "source": [
    "class Automovil:\n",
    "    def __init__(self, modelo, marca, color):\n",
    "        self.modelo = modelo # atributos\n",
    "        self.marca = marca # atributos\n",
    "        self.color = color # atributos\n",
    "        self._estado = 'Inmovil' # _ indica que es un atributo privado\n",
    "        self._motor = Motor(cilindros = 4)\n",
    "    \n",
    "    def acelerar(self, tipo = \"despacio\"):\n",
    "        if tipo == \"rapida\":\n",
    "            self._motor.inyecta_gasolina(10)\n",
    "        elif tipo == \"despacio\":\n",
    "            self._motor.inyecta_gasolina(3)\n",
    "        else:\n",
    "            raise ValueError(\"Tipo de aceleracion no valido\")\n",
    "        self._estado = \"En movimiento\"\n",
    "        \n",
    "class Motor:\n",
    "    \n",
    "    def __init__(self, cilindros, tipo='gasolina'):\n",
    "        self.cilindros = cilindros\n",
    "        self.tipo = tipo\n",
    "        self._temperatura = 0\n",
    "   \n",
    "    def encender(self):\n",
    "        self._temperatura = 20\n",
    "        self._motor = True     \n",
    "    \n",
    "    def inyecta_gasolina(self, cantidad):\n",
    "        self._temperatura += cantidad\n",
    "        print(f\"Inyectando {cantidad} litros de {self.tipo}\")"
   ]
  },
  {
   "cell_type": "code",
   "execution_count": null,
   "metadata": {},
   "outputs": [],
   "source": [
    "Ford_Fiesta = Automovil(\"Fiesta\", \"Ford\", \"Rojo\")"
   ]
  },
  {
   "cell_type": "code",
   "execution_count": null,
   "metadata": {},
   "outputs": [],
   "source": [
    "Ford_Fiesta.acelerar(\"rapida\")"
   ]
  },
  {
   "cell_type": "code",
   "execution_count": null,
   "metadata": {},
   "outputs": [],
   "source": [
    "Ford_Fiesta.color"
   ]
  }
 ],
 "metadata": {
  "interpreter": {
   "hash": "78eeaae47ace5e2711797a651b797b916b0a2572c6071905f028674a219e3637"
  },
  "kernelspec": {
   "display_name": "Python 3.8.8 64-bit ('base': conda)",
   "name": "python3"
  },
  "language_info": {
   "name": "python",
   "version": "3.8.8"
  },
  "orig_nbformat": 4
 },
 "nbformat": 4,
 "nbformat_minor": 2
}
