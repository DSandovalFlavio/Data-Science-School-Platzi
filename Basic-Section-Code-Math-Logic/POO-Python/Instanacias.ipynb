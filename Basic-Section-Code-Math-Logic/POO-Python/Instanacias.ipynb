{
 "cells": [
  {
   "cell_type": "markdown",
   "metadata": {},
   "source": [
    "# Instancias\n",
    "\n",
    "- Mientras que las clases son una plantilla para crear objetos, las instancias son objetos reales.\n",
    "- Cuando se crea una instancia de una clase, se ejeccuta el metodo \"__ init __\" que es el constructor de la clase\n",
    "- Todos los metodos de las clases reciben como parametro self, que es una referencia a la instancia que se esta creando\n",
    "  \n",
    "Los atributos de clase nos permiten:\n",
    "- Representar datos\n",
    "- Procedimientos para interactuar con los datos\n",
    "- Mecanismos para esconder detalles de implementación\n",
    "\n",
    "Se accede a los atributos con la notacion de punto\n",
    "\n",
    "Pueden tener atributos privados, que por convencion se inician con _"
   ]
  },
  {
   "cell_type": "code",
   "execution_count": 1,
   "metadata": {},
   "outputs": [],
   "source": [
    "class Cordenada:\n",
    "    \n",
    "    def __init__(self, x, y):\n",
    "        self.x = x\n",
    "        self.y = y\n",
    "    \n",
    "    def distancia(self, otra_cordenada):\n",
    "        x_diff = (self.x - otra_cordenada.x) ** 2\n",
    "        y_diff = (self.y - otra_cordenada.y) ** 2\n",
    "        \n",
    "        return (x_diff + y_diff) ** 0.5"
   ]
  },
  {
   "cell_type": "code",
   "execution_count": 2,
   "metadata": {},
   "outputs": [
    {
     "name": "stdout",
     "output_type": "stream",
     "text": [
      "2.8284271247461903\n"
     ]
    }
   ],
   "source": [
    "cordenada_1 = Cordenada(3, 4)\n",
    "cordenada_2 = Cordenada(5, 6)\n",
    "\n",
    "print(cordenada_1.distancia(cordenada_2))"
   ]
  },
  {
   "cell_type": "code",
   "execution_count": 3,
   "metadata": {},
   "outputs": [
    {
     "name": "stdout",
     "output_type": "stream",
     "text": [
      "True\n"
     ]
    }
   ],
   "source": [
    "print(isinstance(cordenada_1, Cordenada))"
   ]
  }
 ],
 "metadata": {
  "interpreter": {
   "hash": "78eeaae47ace5e2711797a651b797b916b0a2572c6071905f028674a219e3637"
  },
  "kernelspec": {
   "display_name": "Python 3.8.8 64-bit ('base': conda)",
   "name": "python3"
  },
  "language_info": {
   "codemirror_mode": {
    "name": "ipython",
    "version": 3
   },
   "file_extension": ".py",
   "mimetype": "text/x-python",
   "name": "python",
   "nbconvert_exporter": "python",
   "pygments_lexer": "ipython3",
   "version": "3.8.8"
  },
  "orig_nbformat": 4
 },
 "nbformat": 4,
 "nbformat_minor": 2
}
