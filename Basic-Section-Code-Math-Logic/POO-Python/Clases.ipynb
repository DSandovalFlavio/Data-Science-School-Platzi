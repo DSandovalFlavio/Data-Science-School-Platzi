{
 "cells": [
  {
   "cell_type": "markdown",
   "metadata": {},
   "source": [
    "# En Python todo es un objeto y todo tiene un tipo\n",
    "Representacion de datos y formas de interactuar con ellos \n",
    "\n",
    "Formas de interactuar con el objeto:\n",
    "- Decomposicion : desarmar algo en piezas mas pequeñas  \n",
    "- Abstraccion : prosesos que puedes generalizar \n",
    "- Encapsulacion : esconder procesos y detalles de implementacion"
   ]
  },
  {
   "cell_type": "code",
   "execution_count": 2,
   "metadata": {},
   "outputs": [],
   "source": [
    "# definiendo una clase\n",
    "\n",
    "class nombre_de_la_clase():\n",
    "    def __init__(self): # constructor, siempre debe de iniciar con self y los parametros\n",
    "        # self.atributo = atributo los atributos deben de iniciar con self para que sean accesibles\n",
    "        pass\n",
    "    def metodo(self): # metodo, siempre debe de iniciar con self y los parametros\n",
    "        # self.atributo = atributo los atributos deben de iniciar con self para que sean accesibles\n",
    "        # que es lo que hace el metodo\n",
    "        pass"
   ]
  },
  {
   "cell_type": "code",
   "execution_count": 1,
   "metadata": {},
   "outputs": [],
   "source": [
    "# Ejemplo de uso de la clase\n",
    "\n",
    "class Persona():\n",
    "    def __init__(self, nombre, edad):\n",
    "        self.nombre = nombre\n",
    "        self.edad = edad\n",
    "    def saludar(self, otra_persona):\n",
    "        print(f\"Hola {otra_persona.nombre}, me llamo {self.nombre} y tengo {self.edad} años\")\n",
    "        \n",
    "cesar = Persona(\"Cesar\", 25)\n",
    "dayana = Persona(\"Dayana\", 25)"
   ]
  },
  {
   "cell_type": "code",
   "execution_count": 5,
   "metadata": {},
   "outputs": [
    {
     "name": "stdout",
     "output_type": "stream",
     "text": [
      "Hola Dayana, me llamo Cesar y tengo 25 años\n"
     ]
    }
   ],
   "source": [
    "cesar.saludar(dayana)"
   ]
  }
 ],
 "metadata": {
  "interpreter": {
   "hash": "78eeaae47ace5e2711797a651b797b916b0a2572c6071905f028674a219e3637"
  },
  "kernelspec": {
   "display_name": "Python 3.8.8 64-bit ('base': conda)",
   "name": "python3"
  },
  "language_info": {
   "codemirror_mode": {
    "name": "ipython",
    "version": 3
   },
   "file_extension": ".py",
   "mimetype": "text/x-python",
   "name": "python",
   "nbconvert_exporter": "python",
   "pygments_lexer": "ipython3",
   "version": "3.8.8"
  },
  "orig_nbformat": 4
 },
 "nbformat": 4,
 "nbformat_minor": 2
}
