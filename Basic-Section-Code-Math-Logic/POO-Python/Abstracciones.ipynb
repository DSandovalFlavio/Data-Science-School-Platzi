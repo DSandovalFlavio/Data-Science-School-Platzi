{
 "cells": [
  {
   "cell_type": "markdown",
   "metadata": {},
   "source": [
    "# Abstraccion\n",
    "\n",
    "- Enfocarnos en la informacion relevante\n",
    "- Separar la informacion central de los detalles secundarios\n",
    "- Podemos utilizar variables y metodos (peivados y publicos)"
   ]
  },
  {
   "cell_type": "code",
   "execution_count": 11,
   "metadata": {},
   "outputs": [],
   "source": [
    "class Lavadora:\n",
    "    \n",
    "    def __init__(self):\n",
    "        pass\n",
    "    \n",
    "    def lavar(self):\n",
    "        self._tipo_de_lavado()\n",
    "        self._lavar()\n",
    "        self._enjuague()\n",
    "        self._centrifugar()\n",
    "        self.tiempo_total_de_ciclo_de_lavado = self.tiempo_de_lavado + self.tiempo_de_enjuague + self.tiempo_de_centrifugar\n",
    "        print(f'El tiempo total de lavado fue de {self.tiempo_total_de_ciclo_de_lavado} minutos')\n",
    "    \n",
    "    def _tipo_de_lavado(self):\n",
    "        self._niveles_de_agua = {'chico': 10, 'mediano' : 20, 'grande' : 30, 'extragrande' : 40}\n",
    "        self._niveles_de_fuerza_de_lavado = {'delicada': 2, 'normal' : 3, 'cobijas' : 4}\n",
    "        self.nivel_de_carga = input(\"¿Qué nivel de carga desea utilizar? (chico, mediano, grande o extragrande) : \")\n",
    "        self.tipo_de_ropa = input(\"¿Qué tipo de ropa desea lavar? (delicada, normal, cobijas) : \")\n",
    "        self.nivel_de_agua = self._niveles_de_agua[self.nivel_de_carga] \n",
    "        self.nivel_de_fuerza_de_lavado = self._niveles_de_fuerza_de_lavado[self.tipo_de_ropa]\n",
    "        print(f'El ciclo de lavado para ropa {self.tipo_de_ropa} con tamaño de carga {self.nivel_de_carga} consta de {self.nivel_de_agua} lts de agua, con una fuerza de lavado de {self.nivel_de_fuerza_de_lavado} vueltas por minuto')\n",
    "    \n",
    "    def _lavar(self):\n",
    "        self.tiempo_de_lavado = self.nivel_de_agua / self.nivel_de_fuerza_de_lavado\n",
    "        print(f'El tiempo de lavado es de {self.tiempo_de_lavado} minutos ')\n",
    "        print(f'Llenando la tina con {self.nivel_de_agua} lts')\n",
    "        print(f'Agregando jabon')\n",
    "        print(f'Lavando ropa con {self.nivel_de_fuerza_de_lavado} vueltas por minuto')\n",
    "        print(f'Lavado terminado')\n",
    "    \n",
    "    def _enjuague(self):\n",
    "        self.tiempo_de_enjuague = self.tiempo_de_lavado / 2\n",
    "        print(f'El tiempo de enjuague es de {self.tiempo_de_enjuague} minutos')\n",
    "        print('Enjuagando la ropa')\n",
    "        print('Enjuague terminado')\n",
    "        \n",
    "    def _centrifugar(self):\n",
    "        self.tiempo_de_centrifugar = self.tiempo_de_enjuague\n",
    "        print(f'El tiempo de centrifugar es de {self.tiempo_de_centrifugar} minutos')\n",
    "        print('Centrifugando la ropa')\n",
    "        print('Centrifugado terminado')\n",
    "            \n",
    "    "
   ]
  },
  {
   "cell_type": "code",
   "execution_count": 12,
   "metadata": {},
   "outputs": [
    {
     "name": "stdout",
     "output_type": "stream",
     "text": [
      "El ciclo de lavado para ropa delicada con tamaño de carga chico consta de 10 lts de agua, con una fuerza de lavado de 2 vueltas por minuto\n",
      "El tiempo de lavado es de 5.0 minutos \n",
      "Llenando la tina con 10 lts\n",
      "Agregando jabon\n",
      "Lavando ropa con 2 vueltas por minuto\n",
      "Lavado terminado\n",
      "El tiempo de enjuague es de 2.5 minutos\n",
      "Enjuagando la ropa\n",
      "Enjuague terminado\n",
      "El tiempo de centrifugar es de 2.5 minutos\n",
      "Centrifugando la ropa\n",
      "Centrifugado terminado\n",
      "El tiempo total de lavado fue de 10.0 minutos\n"
     ]
    }
   ],
   "source": [
    "Lavadora = Lavadora()\n",
    "Lavadora.lavar()"
   ]
  },
  {
   "cell_type": "code",
   "execution_count": 15,
   "metadata": {},
   "outputs": [
    {
     "data": {
      "text/plain": [
       "'delicada'"
      ]
     },
     "execution_count": 15,
     "metadata": {},
     "output_type": "execute_result"
    }
   ],
   "source": [
    "Lavadora.tipo_de_ropa"
   ]
  }
 ],
 "metadata": {
  "interpreter": {
   "hash": "78eeaae47ace5e2711797a651b797b916b0a2572c6071905f028674a219e3637"
  },
  "kernelspec": {
   "display_name": "Python 3.8.8 64-bit ('base': conda)",
   "name": "python3"
  },
  "language_info": {
   "codemirror_mode": {
    "name": "ipython",
    "version": 3
   },
   "file_extension": ".py",
   "mimetype": "text/x-python",
   "name": "python",
   "nbconvert_exporter": "python",
   "pygments_lexer": "ipython3",
   "version": "3.8.8"
  },
  "orig_nbformat": 4
 },
 "nbformat": 4,
 "nbformat_minor": 2
}
