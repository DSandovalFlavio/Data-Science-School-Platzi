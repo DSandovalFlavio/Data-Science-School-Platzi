{
 "cells": [
  {
   "cell_type": "code",
   "execution_count": null,
   "source": [
    "from pyspark import SparkContext\n",
    "from pyspark.sql import SparkSession\n",
    "from pyspark.sql.types import StructType, StructField, IntegerType, FloatType, StringType, Row\n",
    "from pyspark.sql import SQLContext\n",
    "from pyspark.sql.functions import col, when, lit"
   ],
   "outputs": [],
   "metadata": {}
  },
  {
   "cell_type": "code",
   "execution_count": null,
   "source": [
    "spark.stop()"
   ],
   "outputs": [],
   "metadata": {}
  },
  {
   "cell_type": "code",
   "execution_count": null,
   "source": [
    "spark = SparkContext(master=\"local\", appName=\"DataFrame\")\n",
    "sqlContext = SQLContext(spark)"
   ],
   "outputs": [],
   "metadata": {}
  },
  {
   "cell_type": "code",
   "execution_count": null,
   "source": [
    "!head -n 5 ./files/deportista.csv"
   ],
   "outputs": [],
   "metadata": {}
  },
  {
   "cell_type": "code",
   "execution_count": null,
   "source": [
    "deportistaSchema = StructType([\n",
    "    StructField(\"deportista_id\",IntegerType(),False),\n",
    "    StructField(\"nombre\",StringType(),False),\n",
    "    StructField(\"genero\", IntegerType(),False),\n",
    "    StructField(\"edad\",IntegerType(),False),\n",
    "    StructField(\"altura\",IntegerType(),False),\n",
    "    StructField(\"peso\",IntegerType(),False),\n",
    "    StructField(\"equipo_id\",IntegerType(),False)\n",
    "])"
   ],
   "outputs": [],
   "metadata": {}
  },
  {
   "cell_type": "code",
   "execution_count": null,
   "source": [
    "!head -n 5 ./files/resultados.csv"
   ],
   "outputs": [],
   "metadata": {}
  },
  {
   "cell_type": "code",
   "execution_count": null,
   "source": [
    "resultadoSchema = StructType([\n",
    "    StructField(\"resultado_id\",IntegerType(),False),\n",
    "    StructField(\"medalla\",StringType(),False),\n",
    "    StructField(\"deportista_id\",IntegerType(),False),\n",
    "    StructField(\"juego_id\",IntegerType(),False),\n",
    "    StructField(\"evento_id\",IntegerType(),False)\n",
    "])"
   ],
   "outputs": [],
   "metadata": {}
  },
  {
   "cell_type": "code",
   "execution_count": null,
   "source": [
    "!head -n 5 ./files/juegos.csv"
   ],
   "outputs": [],
   "metadata": {}
  },
  {
   "cell_type": "code",
   "execution_count": null,
   "source": [
    "juegoSchema = StructType([\n",
    "    StructField(\"juego_id\",IntegerType(),False),\n",
    "    StructField(\"anio\",StringType(),False),\n",
    "    StructField(\"temporada\", StringType(),False),\n",
    "    StructField(\"ciudad\",StringType(),False)\n",
    "])"
   ],
   "outputs": [],
   "metadata": {}
  },
  {
   "cell_type": "code",
   "execution_count": null,
   "source": [
    "!head -n 5 ./files/evento.csv"
   ],
   "outputs": [],
   "metadata": {}
  },
  {
   "cell_type": "code",
   "execution_count": null,
   "source": [
    "deportesOlimpicosSchema = StructType([\n",
    "    StructField(\"evento_id\", IntegerType(),False),\n",
    "    StructField(\"nombre\", StringType(),False),\n",
    "    StructField(\"deporte_id\", IntegerType(),False)\n",
    "])"
   ],
   "outputs": [],
   "metadata": {}
  },
  {
   "cell_type": "code",
   "execution_count": null,
   "source": [
    "deportistaDF = sqlContext.read.schema(deportistaSchema)\\\n",
    "    .option(\"header\",\"true\").csv(\"./files/deportista.csv\") \\\n",
    "    .union (sqlContext.read.schema(deportistaSchema)\\\n",
    "    .option(\"header\",\"false\").csv(\"./files/deportista2.csv\"))\n",
    "\n",
    "resultadosDF = sqlContext.read.schema(resultadoSchema)\\\n",
    "    .option(\"header\",\"true\").csv(\"./files/resultados.csv\")\n",
    "\n",
    "juegoDF = sqlContext.read.schema(juegoSchema)\\\n",
    "    .option(\"header\",\"true\").csv(\"./files/juegos.csv\")\n",
    "\n",
    "deportesOlimpicosDF = sqlContext.read.schema(deportesOlimpicosSchema)\\\n",
    "    .option(\"header\",\"true\").csv(\"./files/evento.csv\")"
   ],
   "outputs": [],
   "metadata": {}
  },
  {
   "cell_type": "code",
   "execution_count": null,
   "source": [
    "print(f'Tamaño de deportistaDF: {deportistaDF.count()}')\n",
    "print(f'Tamaño de resultadosDF: {resultadosDF.count()}')\n",
    "print(f'Tamaño de juegoDF: {juegoDF.count()}')\n",
    "print(f'Tamaño de deportesOlimpicosDF: {deportesOlimpicosDF.count()}')"
   ],
   "outputs": [],
   "metadata": {}
  },
  {
   "cell_type": "code",
   "execution_count": null,
   "source": [
    "deportistaDF.printSchema()"
   ],
   "outputs": [],
   "metadata": {}
  },
  {
   "cell_type": "code",
   "execution_count": null,
   "source": [
    "resultadosDF.printSchema()"
   ],
   "outputs": [],
   "metadata": {}
  },
  {
   "cell_type": "code",
   "execution_count": null,
   "source": [
    "juegoDF.printSchema()"
   ],
   "outputs": [],
   "metadata": {}
  },
  {
   "cell_type": "code",
   "execution_count": null,
   "source": [
    "deportesOlimpicosDF.printSchema()"
   ],
   "outputs": [],
   "metadata": {}
  },
  {
   "cell_type": "code",
   "execution_count": null,
   "source": [
    "df = deportistaDF.join(\n",
    "    resultadosDF, deportistaDF.deportista_id == resultadosDF.deportista_id, \"left\")\\\n",
    "    .join(juegoDF, juegoDF.juego_id == resultadosDF.juego_id,\"left\")\\\n",
    "    .join(deportesOlimpicosDF, deportesOlimpicosDF.evento_id == resultadosDF.evento_id,\"left\")\\\n",
    "    .select(\n",
    "        deportistaDF.nombre,col(\"edad\").alias(\"edad_al_jugar\"),\n",
    "        \"medalla\",col(\"anio\").alias(\"anio_de_juego\"),\n",
    "        deportesOlimpicosDF.nombre.alias(\"Nombre_Diciplina\"))"
   ],
   "outputs": [],
   "metadata": {}
  },
  {
   "cell_type": "code",
   "execution_count": null,
   "source": [
    "df.show()"
   ],
   "outputs": [],
   "metadata": {}
  },
  {
   "cell_type": "code",
   "execution_count": null,
   "source": [
    "df2 = df.filter(df.medalla != \"NA\")\\\n",
    "    .sort(df.anio_de_juego)\\\n",
    "    .groupBy(df.nombre,df.anio_de_juego)\\\n",
    "    .count()"
   ],
   "outputs": [],
   "metadata": {}
  },
  {
   "cell_type": "code",
   "execution_count": null,
   "source": [
    "df2.show()"
   ],
   "outputs": [],
   "metadata": {}
  },
  {
   "cell_type": "code",
   "execution_count": null,
   "source": [
    "deportistaDF.registerTempTable(\"deportista\")\n",
    "resultadosDF.registerTempTable(\"resultados\")\n",
    "juegoDF.registerTempTable(\"juego\")\n",
    "deportesOlimpicosDF.registerTempTable(\"deportesOlimpicos\")"
   ],
   "outputs": [],
   "metadata": {}
  },
  {
   "cell_type": "code",
   "execution_count": null,
   "source": [
    "sqlContext.sql(\"\"\"\n",
    "               SELECT *\n",
    "               FROM deportista\n",
    "               \"\"\").show()"
   ],
   "outputs": [],
   "metadata": {}
  },
  {
   "cell_type": "code",
   "execution_count": null,
   "source": [
    "spark"
   ],
   "outputs": [],
   "metadata": {}
  },
  {
   "cell_type": "code",
   "execution_count": null,
   "source": [],
   "outputs": [],
   "metadata": {}
  },
  {
   "cell_type": "code",
   "execution_count": null,
   "source": [],
   "outputs": [],
   "metadata": {}
  },
  {
   "cell_type": "code",
   "execution_count": null,
   "source": [],
   "outputs": [],
   "metadata": {}
  },
  {
   "cell_type": "code",
   "execution_count": null,
   "source": [],
   "outputs": [],
   "metadata": {}
  },
  {
   "cell_type": "code",
   "execution_count": null,
   "source": [],
   "outputs": [],
   "metadata": {}
  },
  {
   "cell_type": "code",
   "execution_count": null,
   "source": [],
   "outputs": [],
   "metadata": {}
  },
  {
   "cell_type": "code",
   "execution_count": null,
   "source": [
    "spark.stop()"
   ],
   "outputs": [],
   "metadata": {}
  }
 ],
 "metadata": {
  "orig_nbformat": 4,
  "language_info": {
   "name": "python",
   "version": "3.7.11",
   "mimetype": "text/x-python",
   "codemirror_mode": {
    "name": "ipython",
    "version": 3
   },
   "pygments_lexer": "ipython3",
   "nbconvert_exporter": "python",
   "file_extension": ".py"
  },
  "kernelspec": {
   "name": "python3",
   "display_name": "Python 3.7.11 64-bit ('pyspark': conda)"
  },
  "interpreter": {
   "hash": "ba24e5d53ea9beca6a5a46cb4f0dc3de1728e14498529be8f7da7453563971da"
  }
 },
 "nbformat": 4,
 "nbformat_minor": 2
}